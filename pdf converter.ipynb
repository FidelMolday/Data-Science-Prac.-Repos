{
 "cells": [
  {
   "cell_type": "code",
   "execution_count": 4,
   "id": "b1862e17-0b97-4f5e-90c2-839b0595098d",
   "metadata": {},
   "outputs": [
    {
     "ename": "AttributeError",
     "evalue": "'Converter' object has no attribute 'converter'",
     "output_type": "error",
     "traceback": [
      "\u001b[0;31m---------------------------------------------------------------------------\u001b[0m",
      "\u001b[0;31mAttributeError\u001b[0m                            Traceback (most recent call last)",
      "Cell \u001b[0;32mIn[4], line 5\u001b[0m\n\u001b[1;32m      3\u001b[0m docx_file \u001b[38;5;241m=\u001b[39m \u001b[38;5;124m\"\u001b[39m\u001b[38;5;124mAfm.docx\u001b[39m\u001b[38;5;124m\"\u001b[39m\n\u001b[1;32m      4\u001b[0m cv \u001b[38;5;241m=\u001b[39m Converter(pdf_file)\n\u001b[0;32m----> 5\u001b[0m \u001b[43mcv\u001b[49m\u001b[38;5;241;43m.\u001b[39;49m\u001b[43mconverter\u001b[49m(docx_file)\n\u001b[1;32m      6\u001b[0m cv\u001b[38;5;241m.\u001b[39mclose()\n",
      "\u001b[0;31mAttributeError\u001b[0m: 'Converter' object has no attribute 'converter'"
     ]
    }
   ],
   "source": [
    "from pdf2docx import Converter\n",
    "pdf_file = \"Afm.pdf\"\n",
    "docx_file = \"Afm.docx\"\n",
    "cv = Converter(pdf_file)\n",
    "cv.converter(docx_file)\n",
    "cv.close()"
   ]
  },
  {
   "cell_type": "code",
   "execution_count": 5,
   "id": "8c7ed75f-89a9-4b6d-bd73-92e3e94dafef",
   "metadata": {},
   "outputs": [
    {
     "ename": "AttributeError",
     "evalue": "'Converter' object has no attribute 'converter'",
     "output_type": "error",
     "traceback": [
      "\u001b[0;31m---------------------------------------------------------------------------\u001b[0m",
      "\u001b[0;31mAttributeError\u001b[0m                            Traceback (most recent call last)",
      "Cell \u001b[0;32mIn[5], line 5\u001b[0m\n\u001b[1;32m      3\u001b[0m docx_file \u001b[38;5;241m=\u001b[39m \u001b[38;5;124m\"\u001b[39m\u001b[38;5;124mAfm.docx\u001b[39m\u001b[38;5;124m\"\u001b[39m\n\u001b[1;32m      4\u001b[0m cv \u001b[38;5;241m=\u001b[39m Converter(pdf_file)\n\u001b[0;32m----> 5\u001b[0m \u001b[43mcv\u001b[49m\u001b[38;5;241;43m.\u001b[39;49m\u001b[43mconverter\u001b[49m(docx_file)\n\u001b[1;32m      6\u001b[0m cv\u001b[38;5;241m.\u001b[39mclose()\n",
      "\u001b[0;31mAttributeError\u001b[0m: 'Converter' object has no attribute 'converter'"
     ]
    }
   ],
   "source": [
    "from pdf2docx import Converter\n",
    "pdf_file = \"Afm.pdf\"\n",
    "docx_file = \"Afm.docx\"\n",
    "cv = Converter(pdf_file)\n",
    "cv.converter(docx_file)\n",
    "cv.close()"
   ]
  },
  {
   "cell_type": "code",
   "execution_count": 6,
   "id": "da9798c2-8334-4a0e-969d-2927f07d0855",
   "metadata": {},
   "outputs": [
    {
     "name": "stderr",
     "output_type": "stream",
     "text": [
      "[INFO] Start to convert Afm.pdf\n",
      "[INFO] \u001b[1;36m[1/4] Opening document...\u001b[0m\n",
      "[INFO] \u001b[1;36m[2/4] Analyzing document...\u001b[0m\n",
      "[WARNING] 'modified' timestamp seems very low; regarding as unix timestamp\n",
      "[WARNING] 'modified' timestamp seems very low; regarding as unix timestamp\n",
      "[WARNING] Words count: 0. It might be a scanned pdf, which is not supported yet.\n",
      "[INFO] \u001b[1;36m[3/4] Parsing pages...\u001b[0m\n",
      "[INFO] (1/1) Page 1\n",
      "[INFO] \u001b[1;36m[4/4] Creating pages...\u001b[0m\n",
      "[INFO] (1/1) Page 1\n",
      "[INFO] Terminated in 0.36s.\n"
     ]
    }
   ],
   "source": [
    "from pdf2docx import Converter\n",
    "\n",
    "pdf_file = \"Afm.pdf\"\n",
    "docx_file = \"Afm.docx\"\n",
    "\n",
    "cv = Converter(pdf_file)\n",
    "cv.convert(docx_file)  # Use convert(), not converter()\n",
    "cv.close()\n"
   ]
  },
  {
   "cell_type": "code",
   "execution_count": null,
   "id": "94ee1e8d-6d1d-4220-b892-d08121a34408",
   "metadata": {},
   "outputs": [],
   "source": [
    "from pdf2docx import Converter\n",
    "\n",
    "pdf_file = \"Afm.pdf\"\n",
    "docx_file = \"Afm.docx\"\n",
    "\n",
    "cv = Converter(pdf_file)\n",
    "cv.convert(docx_file)  # Use convert(), not converter()\n",
    "cv.close()\n"
   ]
  }
 ],
 "metadata": {
  "kernelspec": {
   "display_name": "Python 3 (ipykernel)",
   "language": "python",
   "name": "python3"
  },
  "language_info": {
   "codemirror_mode": {
    "name": "ipython",
    "version": 3
   },
   "file_extension": ".py",
   "mimetype": "text/x-python",
   "name": "python",
   "nbconvert_exporter": "python",
   "pygments_lexer": "ipython3",
   "version": "3.10.12"
  }
 },
 "nbformat": 4,
 "nbformat_minor": 5
}
