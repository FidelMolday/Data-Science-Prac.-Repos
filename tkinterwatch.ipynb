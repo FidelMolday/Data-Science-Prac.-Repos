{
 "cells": [
  {
   "cell_type": "code",
   "execution_count": null,
   "id": "70a38698-0331-40a0-b010-36436bb97929",
   "metadata": {},
   "outputs": [],
   "source": [
    "from tkinter import *\n",
    "from tkinter.ttk import *\n",
    "\n",
    "from time import strftime\n",
    "\n",
    "root = Tk()\n",
    "root.title('Clock')\n",
    "\n",
    "def time():\n",
    "    string = strftime('%H:%M:%S %p')\n",
    "    lbl.config(text = string)\n",
    "    lbl.after(1000, time)\n",
    "\n",
    "\n",
    "\n",
    "lbl = Label(root, font =('calibri',40,'bold'),\n",
    "           background = 'black',\n",
    "           foreground = 'white')\n",
    "\n",
    "lbl.pack(anchor = 'center')\n",
    "time()\n",
    "mainloop()"
   ]
  },
  {
   "cell_type": "code",
   "execution_count": null,
   "id": "a0cf3903-e66f-4a0c-8248-dd31a2971fd4",
   "metadata": {},
   "outputs": [],
   "source": []
  }
 ],
 "metadata": {
  "kernelspec": {
   "display_name": "Python 3 (ipykernel)",
   "language": "python",
   "name": "python3"
  },
  "language_info": {
   "codemirror_mode": {
    "name": "ipython",
    "version": 3
   },
   "file_extension": ".py",
   "mimetype": "text/x-python",
   "name": "python",
   "nbconvert_exporter": "python",
   "pygments_lexer": "ipython3",
   "version": "3.10.12"
  }
 },
 "nbformat": 4,
 "nbformat_minor": 5
}
